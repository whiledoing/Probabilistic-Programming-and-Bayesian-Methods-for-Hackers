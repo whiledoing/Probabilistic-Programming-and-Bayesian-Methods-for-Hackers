{
  "nbformat": 4,
  "nbformat_minor": 0,
  "metadata": {
    "colab": {
      "name": "Chapter1_Introduction.ipynb",
      "provenance": [],
      "include_colab_link": true
    }
  },
  "cells": [
    {
      "cell_type": "markdown",
      "metadata": {
        "id": "view-in-github",
        "colab_type": "text"
      },
      "source": [
        "<a href=\"https://colab.research.google.com/github/whiledoing/Probabilistic-Programming-and-Bayesian-Methods-for-Hackers/blob/pymc3/Chapter1_Introduction/Chapter1_Introduction.ipynb\" target=\"_parent\"><img src=\"https://colab.research.google.com/assets/colab-badge.svg\" alt=\"Open In Colab\"/></a>"
      ]
    },
    {
      "cell_type": "markdown",
      "metadata": {
        "id": "LoIR21P-7uQX",
        "colab_type": "text"
      },
      "source": [
        "Probabilistic Programming\n",
        "=====\n",
        "and Bayesian Methods for Hackers \n",
        "========\n",
        "\n",
        "#####Version 0.1\n",
        "Welcome to *Bayesian Methods for Hackers*. The full Github repository is available at [github/Probabilistic-Programming-and-Bayesian-Methods-for-Hackers](https://github.com/CamDavidsonPilon/Probabilistic-Programming-and-Bayesian-Methods-for-Hackers). The other chapters can be found on the project's [homepage](camdavidsonpilon.github.io/Probabilistic-Programming-and-Bayesian-Methods-for-Hackers/). We hope you enjoy the book, and we encourage any contributions!"
      ]
    },
    {
      "cell_type": "markdown",
      "metadata": {
        "id": "yuF0YDnh7uQa",
        "colab_type": "text"
      },
      "source": [
        "Chapter 1\n",
        "======\n",
        "***"
      ]
    },
    {
      "cell_type": "markdown",
      "metadata": {
        "id": "0rO9js1u7uQc",
        "colab_type": "text"
      },
      "source": [
        "The Philosophy of Bayesian Inference\n",
        "------\n",
        "  \n",
        "> You are a skilled programmer, but bugs still slip into your code. After a particularly difficult implementation of an algorithm, you decide to test your code on a trivial example. It passes. You test the code on a harder problem. It passes once again. And it passes the next, *even more difficult*, test too! You are starting to believe that there may be no bugs in this code...\n",
        "\n",
        "If you think this way, then congratulations, you already are thinking Bayesian! Bayesian inference is simply updating your beliefs after considering new evidence. A Bayesian can rarely be certain about a result, but he or she can be very confident. Just like in the example above, we can never be 100% sure that our code is bug-free unless we test it on every possible problem; something rarely possible in practice. Instead, we can test it on a large number of problems, and if it succeeds we can feel more *confident* about our code, but still not certain.  Bayesian inference works identically: we update our beliefs about an outcome; rarely can we be absolutely sure unless we rule out all other alternatives. "
      ]
    },
    {
      "cell_type": "markdown",
      "metadata": {
        "id": "3O-bZ72b7uQd",
        "colab_type": "text"
      },
      "source": [
        "\n",
        "### The Bayesian state of mind\n",
        "\n",
        "\n",
        "Bayesian inference differs from more traditional statistical inference by preserving *uncertainty*. At first, this sounds like a bad statistical technique. Isn't statistics all about deriving *certainty* from randomness? To reconcile this, we need to start thinking like Bayesians. \n",
        "\n",
        "The Bayesian world-view interprets probability as measure of *believability in an event*, that is, how confident we are in an event occurring. In fact, we will see in a moment that this is the natural interpretation of probability. \n",
        "\n",
        "For this to be clearer, we consider an alternative interpretation of probability: *Frequentist*, known as the more *classical* version of statistics, assume that probability is the long-run frequency of events (hence the bestowed title). For example, the *probability of plane accidents* under a frequentist philosophy is interpreted as the *long-term frequency of plane accidents*. This makes logical sense for many probabilities of events, but becomes more difficult to understand when events have no long-term frequency of occurrences. Consider: we often assign probabilities to outcomes of presidential elections, but the election itself only happens once! Frequentists get around this by invoking alternative realities and saying across all these realities, the frequency of occurrences defines the probability. \n",
        "\n",
        "Bayesians, on the other hand, have a more intuitive approach. Bayesians interpret a probability as measure of *belief*, or confidence, of an event occurring. Simply, a probability is a summary of an opinion. An individual who assigns a belief of 0 to an event has no confidence that the event will occur; conversely, assigning a belief of 1 implies that the individual is absolutely certain of an event occurring. Beliefs between 0 and 1 allow for weightings of other outcomes. This definition agrees with the probability of a plane accident example, for having observed the frequency of plane accidents, an individual's belief should be equal to that frequency, excluding any outside information. Similarly, under this definition of probability being equal to beliefs, it is meaningful to speak about probabilities (beliefs) of presidential election outcomes: how confident are you candidate *A* will win?\n",
        "\n",
        "Notice in the paragraph above, I assigned the belief (probability) measure to an *individual*, not to Nature. This is very interesting, as this definition leaves room for conflicting beliefs between individuals. Again, this is appropriate for what naturally occurs: different individuals have different beliefs of events occurring, because they possess different *information* about the world. The existence of different beliefs does not imply that anyone is wrong. Consider the following examples demonstrating the relationship between individual beliefs and probabilities:\n",
        "\n",
        "- I flip a coin, and we both guess the result. We would both agree, assuming the coin is fair, that the probability of Heads is 1/2. Assume, then, that I peek at the coin. Now I know for certain what the result is: I assign probability 1.0 to either Heads or Tails (whichever it is). Now what is *your* belief that the coin is Heads? My knowledge of the outcome has not changed the coin's results. Thus we assign different probabilities to the result. \n",
        "\n",
        "-  Your code either has a bug in it or not, but we do not know for certain which is true, though we have a belief about the presence or absence of a bug.  \n",
        "\n",
        "-  A medical patient is exhibiting symptoms $x$, $y$ and $z$. There are a number of diseases that could be causing all of them, but only a single disease is present. A doctor has beliefs about which disease, but a second doctor may have slightly different beliefs. \n",
        "\n",
        "\n",
        "This philosophy of treating beliefs as probability is natural to humans. We employ it constantly as we interact with the world and only see partial truths, but gather evidence to form beliefs. Alternatively, you have to be *trained* to think like a frequentist. \n",
        "\n",
        "To align ourselves with traditional probability notation, we denote our belief about event $A$ as $P(A)$. We call this quantity the *prior probability*.\n",
        "\n",
        "John Maynard Keynes, a great economist and thinker, said \"When the facts change, I change my mind. What do you do, sir?\" This quote reflects the way a Bayesian updates his or her beliefs after seeing evidence. Even &mdash; especially &mdash; if the evidence is counter to what was initially believed, the evidence cannot be ignored. We denote our updated belief as $P(A |X )$, interpreted as the probability of $A$ given the evidence $X$. We call the updated belief the *posterior probability* so as to contrast it with the prior probability. For example, consider the posterior probabilities (read: posterior beliefs) of the above examples, after observing some evidence $X$:\n",
        "\n",
        "1\\. $P(A): \\;\\;$ the coin has a 50 percent chance of being Heads. $P(A | X):\\;\\;$ You look at the coin, observe a Heads has landed, denote this information $X$, and trivially assign probability 1.0 to Heads and 0.0 to Tails.\n",
        "\n",
        "2\\.   $P(A): \\;\\;$  This big, complex code likely has a bug in it. $P(A | X): \\;\\;$ The code passed all $X$ tests; there still might be a bug, but its presence is less likely now.\n",
        "\n",
        "3\\.  $P(A):\\;\\;$ The patient could have any number of diseases. $P(A | X):\\;\\;$ Performing a blood test generated evidence $X$, ruling out some of the possible diseases from consideration.\n",
        "\n",
        "\n",
        "It's clear that in each example we did not completely discard the prior belief after seeing new evidence $X$, but we *re-weighted the prior* to incorporate the new evidence (i.e. we put more weight, or confidence, on some beliefs versus others). \n",
        "\n",
        "By introducing prior uncertainty about events, we are already admitting that any guess we make is potentially very wrong. After observing data, evidence, or other information, we update our beliefs, and our guess becomes *less wrong*. This is the alternative side of the prediction coin, where typically we try to be *more right*. \n"
      ]
    },
    {
      "cell_type": "markdown",
      "metadata": {
        "id": "T7lwuy9Z7uQe",
        "colab_type": "text"
      },
      "source": [
        "\n",
        "### Bayesian Inference in Practice\n",
        "\n",
        " If frequentist and Bayesian inference were programming functions, with inputs being statistical problems, then the two would be different in what they return to the user. The frequentist inference function would return a number, representing an estimate (typically a summary statistic like the sample average etc.), whereas the Bayesian function would return *probabilities*.\n",
        "\n",
        "For example, in our debugging problem above, calling the frequentist function with the argument \"My code passed all $X$ tests; is my code bug-free?\" would return a *YES*. On the other hand, asking our Bayesian function \"Often my code has bugs. My code passed all $X$ tests; is my code bug-free?\" would return something very different: probabilities of *YES* and *NO*. The function might return:\n",
        "\n",
        "\n",
        ">    *YES*, with probability 0.8; *NO*, with probability 0.2\n",
        "\n",
        "\n",
        "\n",
        "This is very different from the answer the frequentist function returned. Notice that the Bayesian function accepted an additional argument:  *\"Often my code has bugs\"*. This parameter is the *prior*. By including the prior parameter, we are telling the Bayesian function to include our belief about the situation. Technically this parameter in the Bayesian function is optional, but we will see excluding it has its own consequences. \n",
        "\n",
        "\n",
        "####Incorporating evidence\n",
        "\n",
        "As we acquire more and more instances of evidence, our prior belief is *washed out* by the new evidence. This is to be expected. For example, if your prior belief is something ridiculous, like \"I expect the sun to explode today\", and each day you are proved wrong, you would hope that any inference would correct you, or at least align your beliefs better. Bayesian inference will correct this belief.\n",
        "\n",
        "\n",
        "Denote $N$ as the number of instances of evidence we possess. As we gather an *infinite* amount of evidence, say as $N \\rightarrow \\infty$, our Bayesian results (often) align with frequentist results. Hence for large $N$, statistical inference is more or less objective. On the other hand, for small $N$, inference is much more *unstable*: frequentist estimates have more variance and larger confidence intervals. This is where Bayesian analysis excels. By introducing a prior, and returning probabilities (instead of a scalar estimate), we *preserve the uncertainty* that reflects the instability of statistical inference of a small $N$ dataset. \n",
        "\n",
        "One may think that for large $N$, one can be indifferent between the two techniques since they offer similar inference, and might lean towards the computationally-simpler, frequentist methods. An individual in this position should consider the following quote by Andrew Gelman (2005)[1], before making such a decision:\n",
        "\n",
        "> Sample sizes are never large. If $N$ is too small to get a sufficiently-precise estimate, you need to get more data (or make more assumptions). But once $N$ is \"large enough,\" you can start subdividing the data to learn more (for example, in a public opinion poll, once you have a good estimate for the entire country, you can estimate among men and women, northerners and southerners, different age groups, etc.). $N$ is never enough because if it were \"enough\" you'd already be on to the next problem for which you need more data.\n",
        "\n",
        "### Are frequentist methods incorrect then? \n",
        "\n",
        "**No.**\n",
        "\n",
        "Frequentist methods are still useful or state-of-the-art in many areas. Tools such as least squares linear regression, LASSO regression, and expectation-maximization algorithms are all powerful and fast. Bayesian methods complement these techniques by solving problems that these approaches cannot, or by illuminating the underlying system with more flexible modeling.\n",
        "\n",
        "\n",
        "#### A note on *Big Data*\n",
        "Paradoxically, big data's predictive analytic problems are actually solved by relatively simple algorithms [2][4]. Thus we can argue that big data's prediction difficulty does not lie in the algorithm used, but instead on the computational difficulties of storage and execution on big data. (One should also consider Gelman's quote from above and ask \"Do I really have big data?\" )\n",
        "\n",
        "The much more difficult analytic problems involve *medium data* and, especially troublesome, *really small data*. Using a similar argument as  Gelman's above, if big data problems are *big enough* to be readily solved, then we should be more interested in the *not-quite-big enough* datasets. \n"
      ]
    },
    {
      "cell_type": "markdown",
      "metadata": {
        "id": "augbnogO7uQf",
        "colab_type": "text"
      },
      "source": [
        "### Our Bayesian framework\n",
        "\n",
        "We are interested in beliefs, which can be interpreted as probabilities by thinking Bayesian. We have a *prior* belief in event $A$, beliefs formed by previous information, e.g., our prior belief about bugs being in our code before performing tests.\n",
        "\n",
        "Secondly, we observe our evidence. To continue our buggy-code example: if our code passes $X$ tests, we want to update our belief to incorporate this. We call this new belief the *posterior* probability. Updating our belief is done via the following equation, known as Bayes' Theorem, after its discoverer Thomas Bayes:\n",
        "\n",
        "\\begin{align}\n",
        " P( A | X ) = & \\frac{ P(X | A) P(A) } {P(X) } \\\\\\\\[5pt]\n",
        "& \\propto P(X | A) P(A)\\;\\; (\\propto \\text{is proportional to } )\n",
        "\\end{align}\n",
        "\n",
        "The above formula is not unique to Bayesian inference: it is a mathematical fact with uses outside Bayesian inference. Bayesian inference merely uses it to connect prior probabilities $P(A)$ with an updated posterior probabilities $P(A | X )$."
      ]
    },
    {
      "cell_type": "markdown",
      "metadata": {
        "id": "NMJRs8Ei7uQg",
        "colab_type": "text"
      },
      "source": [
        "##### Example: Mandatory coin-flip example\n",
        "\n",
        "Every statistics text must contain a coin-flipping example, I'll use it here to get it out of the way. Suppose, naively, that you are unsure about the probability of heads in a coin flip (spoiler alert: it's 50%). You believe there is some true underlying ratio, call it $p$, but have no prior opinion on what $p$ might be. \n",
        "\n",
        "We begin to flip a coin, and record the observations: either $H$ or $T$. This is our observed data. An interesting question to ask is how our inference changes as we observe more and more data? More specifically, what do our posterior probabilities look like when we have little data, versus when we have lots of data. \n",
        "\n",
        "Below we plot a sequence of updating posterior probabilities as we observe increasing amounts of data (coin flips)."
      ]
    },
    {
      "cell_type": "code",
      "metadata": {
        "id": "5LnS6Whv7uQh",
        "colab_type": "code",
        "colab": {},
        "outputId": "819ef507-44d5-4718-c9e9-37d7d87d38b6"
      },
      "source": [
        "\"\"\"\n",
        "The book uses a custom matplotlibrc file, which provides the unique styles for\n",
        "matplotlib plots. If executing this book, and you wish to use the book's\n",
        "styling, provided are two options:\n",
        "    1. Overwrite your own matplotlibrc file with the rc-file provided in the\n",
        "       book's styles/ dir. See http://matplotlib.org/users/customizing.html\n",
        "    2. Also in the styles is  bmh_matplotlibrc.json file. This can be used to\n",
        "       update the styles in only this notebook. Try running the following code:\n",
        "\n",
        "        import json\n",
        "        s = json.load( open(\"../styles/bmh_matplotlibrc.json\") )\n",
        "        matplotlib.rcParams.update(s)\n",
        "\n",
        "\"\"\"\n",
        "\n",
        "# The code below can be passed over, as it is currently not important, plus it\n",
        "# uses advanced topics we have not covered yet. LOOK AT PICTURE, MICHAEL!\n",
        "%matplotlib inline\n",
        "from IPython.core.pylabtools import figsize\n",
        "import numpy as np\n",
        "from matplotlib import pyplot as plt\n",
        "figsize(11, 9)\n",
        "\n",
        "import scipy.stats as stats\n",
        "\n",
        "dist = stats.beta\n",
        "n_trials = [0, 1, 2, 3, 4, 5, 8, 15, 50, 500]\n",
        "data = stats.bernoulli.rvs(0.5, size=n_trials[-1])\n",
        "x = np.linspace(0, 1, 100)\n",
        "\n",
        "# For the already prepared, I'm using Binomial's conj. prior.\n",
        "for k, N in enumerate(n_trials):\n",
        "    sx = plt.subplot(len(n_trials)/2, 2, k+1)\n",
        "    plt.xlabel(\"$p$, probability of heads\") \\\n",
        "        if k in [0, len(n_trials)-1] else None\n",
        "    plt.setp(sx.get_yticklabels(), visible=False)\n",
        "    heads = data[:N].sum()\n",
        "    y = dist.pdf(x, 1 + heads, 1 + N - heads)\n",
        "    plt.plot(x, y, label=\"observe %d tosses,\\n %d heads\" % (N, heads))\n",
        "    plt.fill_between(x, 0, y, color=\"#348ABD\", alpha=0.4)\n",
        "    plt.vlines(0.5, 0, 4, color=\"k\", linestyles=\"--\", lw=1)\n",
        "\n",
        "    leg = plt.legend()\n",
        "    leg.get_frame().set_alpha(0.4)\n",
        "    plt.autoscale(tight=True)\n",
        "\n",
        "\n",
        "plt.suptitle(\"Bayesian updating of posterior probabilities\",\n",
        "             y=1.02,\n",
        "             fontsize=14)\n",
        "\n",
        "plt.tight_layout()"
      ],
      "execution_count": 0,
      "outputs": [
        {
          "output_type": "display_data",
          "data": {},
          "metadata": {
            "tags": []
          }
        }
      ]
    },
    {
      "cell_type": "markdown",
      "metadata": {
        "id": "CkW53gAG7uQm",
        "colab_type": "text"
      },
      "source": [
        "The posterior probabilities are represented by the curves, and our uncertainty is proportional to the width of the curve. As the plot above shows, as we start to observe data our posterior probabilities start to shift and move around. Eventually, as we observe more and more data (coin-flips), our probabilities will tighten closer and closer around the true value of $p=0.5$ (marked by a dashed line). \n",
        "\n",
        "Notice that the plots are not always *peaked* at 0.5. There is no reason it should be: recall we assumed we did not have a prior opinion of what $p$ is. In fact, if we observe quite extreme data, say 8 flips and only 1 observed heads, our distribution would look very biased *away* from lumping around 0.5 (with no prior opinion, how confident would you feel betting on a fair coin after observing 8 tails and 1 head). As more data accumulates, we would see more and more probability being assigned at $p=0.5$, though never all of it.\n",
        "\n",
        "The next example is a simple demonstration of the mathematics of Bayesian inference. "
      ]
    },
    {
      "cell_type": "markdown",
      "metadata": {
        "id": "INSfvKIq7uQo",
        "colab_type": "text"
      },
      "source": [
        "##### Example: Bug, or just sweet, unintended feature?\n",
        "\n",
        "\n",
        "Let $A$ denote the event that our code has **no bugs** in it. Let $X$ denote the event that the code passes all debugging tests. For now, we will leave the prior probability of no bugs as a variable, i.e. $P(A) = p$. \n",
        "\n",
        "We are interested in $P(A|X)$, i.e. the probability of no bugs, given our debugging tests $X$. To use the formula above, we need to compute some quantities.\n",
        "\n",
        "What is $P(X | A)$, i.e., the probability that the code passes $X$ tests *given* there are no bugs? Well, it is equal to 1, for a code with no bugs will pass all tests. \n",
        "\n",
        "$P(X)$ is a little bit trickier: The event $X$ can be divided into two possibilities, event $X$ occurring even though our code *indeed has* bugs (denoted $\\sim A\\;$, spoken *not $A$*), or event $X$ without bugs ($A$). $P(X)$ can be represented as:"
      ]
    },
    {
      "cell_type": "markdown",
      "metadata": {
        "id": "pInLT7FB7uQo",
        "colab_type": "text"
      },
      "source": [
        "\\begin{align}\n",
        "P(X ) & = P(X \\text{ and } A) + P(X \\text{ and } \\sim A) \\\\\\\\[5pt]\n",
        " & = P(X|A)P(A) + P(X | \\sim A)P(\\sim A)\\\\\\\\[5pt]\n",
        "& = P(X|A)p + P(X | \\sim A)(1-p)\n",
        "\\end{align}"
      ]
    },
    {
      "cell_type": "markdown",
      "metadata": {
        "id": "tWoOPUuK7uQp",
        "colab_type": "text"
      },
      "source": [
        "We have already computed $P(X|A)$ above. On the other hand, $P(X | \\sim A)$ is subjective: our code can pass tests but still have a bug in it, though the probability there is a bug present is reduced. Note this is dependent on the number of tests performed, the degree of complication in the tests, etc. Let's be conservative and assign $P(X|\\sim A) = 0.5$. Then\n",
        "\n",
        "\\begin{align}\n",
        "P(A | X) & = \\frac{1\\cdot p}{ 1\\cdot p +0.5 (1-p) } \\\\\\\\\n",
        "& = \\frac{ 2 p}{1+p}\n",
        "\\end{align}\n",
        "This is the posterior probability. What does it look like as a function of our prior, $p \\in [0,1]$? "
      ]
    },
    {
      "cell_type": "code",
      "metadata": {
        "id": "qBkGRSZ47uQq",
        "colab_type": "code",
        "colab": {},
        "outputId": "3bb97743-202d-4912-d532-b6a256134b88"
      },
      "source": [
        "figsize(12.5, 4)\n",
        "p = np.linspace(0, 1, 50)\n",
        "plt.plot(p, 2*p/(1+p), color=\"#348ABD\", lw=3)\n",
        "#plt.fill_between(p, 2*p/(1+p), alpha=.5, facecolor=[\"#A60628\"])\n",
        "plt.scatter(0.2, 2*(0.2)/1.2, s=140, c=\"#348ABD\")\n",
        "plt.xlim(0, 1)\n",
        "plt.ylim(0, 1)\n",
        "plt.xlabel(\"Prior, $P(A) = p$\")\n",
        "plt.ylabel(\"Posterior, $P(A|X)$, with $P(A) = p$\")\n",
        "plt.title(\"Are there bugs in my code?\")"
      ],
      "execution_count": 0,
      "outputs": [
        {
          "output_type": "execute_result",
          "data": {},
          "metadata": {
            "tags": []
          },
          "execution_count": 6
        },
        {
          "output_type": "display_data",
          "data": {},
          "metadata": {
            "tags": []
          }
        }
      ]
    },
    {
      "cell_type": "markdown",
      "metadata": {
        "id": "4f5bMPak7uQt",
        "colab_type": "text"
      },
      "source": [
        "We can see the biggest gains if we observe the $X$ tests passed when the prior probability, $p$, is low. Let's settle on a specific value for the prior. I'm a strong programmer (I think), so I'm going to give myself a realistic prior of 0.20, that is, there is a 20% chance that I write code bug-free. To be more realistic, this prior should be a function of how complicated and large the code is, but let's pin it at 0.20. Then my updated belief that my code is bug-free is 0.33. \n",
        "\n",
        "Recall that the prior is a probability: $p$ is the prior probability that there *are no bugs*, so $1-p$ is the prior probability that there *are bugs*.\n",
        "\n",
        "Similarly, our posterior is also a probability, with $P(A | X)$ the probability there is no bug *given we saw all tests pass*, hence $1-P(A|X)$ is the probability there is a bug *given all tests passed*. What does our posterior probability look like? Below is a chart of both the prior and the posterior probabilities. \n"
      ]
    },
    {
      "cell_type": "code",
      "metadata": {
        "id": "Qrt2gKV_7uQu",
        "colab_type": "code",
        "colab": {},
        "outputId": "1cd54296-235c-47e0-a1dd-2a5a69042967"
      },
      "source": [
        "figsize(12.5, 4)\n",
        "colours = [\"#348ABD\", \"#A60628\"]\n",
        "\n",
        "prior = [0.20, 0.80]\n",
        "posterior = [1./3, 2./3]\n",
        "plt.bar([0, .7], prior, alpha=0.70, width=0.25,\n",
        "        color=colours[0], label=\"prior distribution\",\n",
        "        lw=\"3\", edgecolor=colours[0])\n",
        "\n",
        "plt.bar([0+0.25, .7+0.25], posterior, alpha=0.7,\n",
        "        width=0.25, color=colours[1],\n",
        "        label=\"posterior distribution\",\n",
        "        lw=\"3\", edgecolor=colours[1])\n",
        "\n",
        "plt.xticks([0.20, .95], [\"Bugs Absent\", \"Bugs Present\"])\n",
        "plt.title(\"Prior and Posterior probability of bugs present\")\n",
        "plt.ylabel(\"Probability\")\n",
        "plt.legend(loc=\"upper left\");"
      ],
      "execution_count": 0,
      "outputs": [
        {
          "output_type": "display_data",
          "data": {},
          "metadata": {
            "tags": []
          }
        }
      ]
    },
    {
      "cell_type": "markdown",
      "metadata": {
        "id": "IqpZalEE7uQz",
        "colab_type": "text"
      },
      "source": [
        "Notice that after we observed $X$ occur, the probability of bugs being absent increased. By increasing the number of tests, we can approach confidence (probability 1) that there are no bugs present.\n",
        "\n",
        "This was a very simple example of Bayesian inference and Bayes rule. Unfortunately, the mathematics necessary to perform more complicated Bayesian inference only becomes more difficult, except for artificially constructed cases. We will later see that this type of mathematical analysis is actually unnecessary. First we must broaden our modeling tools. The next section deals with *probability distributions*. If you are already familiar, feel free to skip (or at least skim), but for the less familiar the next section is essential."
      ]
    },
    {
      "cell_type": "markdown",
      "metadata": {
        "id": "G_9bo7eM7uQ0",
        "colab_type": "text"
      },
      "source": [
        "_______\n",
        "\n",
        "##Probability Distributions\n",
        "\n",
        "\n",
        "**Let's quickly recall what a probability distribution is:** Let $Z$ be some random variable. Then associated with $Z$ is a *probability distribution function* that assigns probabilities to the different outcomes $Z$ can take. Graphically, a probability distribution is a curve where the probability of an outcome is proportional to the height of the curve. You can see examples in the first figure of this chapter. \n",
        "\n",
        "We can divide random variables into three classifications:\n",
        "\n",
        "-   **$Z$ is discrete**: Discrete random variables may only assume values on a specified list. Things like populations, movie ratings, and number of votes are all discrete random variables. Discrete random variables become more clear when we contrast them with...\n",
        "\n",
        "-   **$Z$ is continuous**: Continuous random variable can take on arbitrarily exact values. For example, temperature, speed, time, color are all modeled as continuous variables because you can progressively make the values more and more precise.\n",
        "\n",
        "- **$Z$ is mixed**: Mixed random variables assign probabilities to both discrete and continuous random variables, i.e. it is a combination of the above two categories. \n",
        "\n",
        "###Discrete Case\n",
        "If $Z$ is discrete, then its distribution is called a *probability mass function*, which measures the probability $Z$ takes on the value $k$, denoted $P(Z=k)$. Note that the probability mass function completely describes the random variable $Z$, that is, if we know the mass function, we know how $Z$ should behave. There are popular probability mass functions that consistently appear: we will introduce them as needed, but let's introduce the first very useful probability mass function. We say $Z$ is *Poisson*-distributed if:\n",
        "\n",
        "$$P(Z = k) =\\frac{ \\lambda^k e^{-\\lambda} }{k!}, \\; \\; k=0,1,2, \\dots $$\n",
        "\n",
        "$\\lambda$ is called a parameter of the distribution, and it controls the distribution's shape. For the Poisson distribution, $\\lambda$ can be any positive number. By increasing $\\lambda$, we add more probability to larger values, and conversely by decreasing $\\lambda$ we add more probability to smaller values. One can describe $\\lambda$ as the *intensity* of the Poisson distribution. \n",
        "\n",
        "Unlike $\\lambda$, which can be any positive number, the value $k$ in the above formula must be a non-negative integer, i.e., $k$ must take on values 0,1,2, and so on. This is very important, because if you wanted to model a population you could not make sense of populations with 4.25 or 5.612 members. \n",
        "\n",
        "If a random variable $Z$ has a Poisson mass distribution, we denote this by writing\n",
        "\n",
        "$$Z \\sim \\text{Poi}(\\lambda) $$\n",
        "\n",
        "One useful property of the Poisson distribution is that its expected value is equal to its parameter, i.e.:\n",
        "\n",
        "$$E\\large[ \\;Z\\; | \\; \\lambda \\;\\large] = \\lambda $$\n",
        "\n",
        "We will use this property often, so it's useful to remember. Below, we plot the probability mass distribution for different $\\lambda$ values. The first thing to notice is that by increasing $\\lambda$, we add more probability of larger values occurring. Second, notice that although the graph ends at 15, the distributions do not. They assign positive probability to every non-negative integer."
      ]
    },
    {
      "cell_type": "code",
      "metadata": {
        "id": "1TADFp8W7uQ1",
        "colab_type": "code",
        "colab": {},
        "outputId": "f37680a4-c33e-4610-ff2e-b189bf174f50"
      },
      "source": [
        "figsize(12.5, 4)\n",
        "\n",
        "import scipy.stats as stats\n",
        "a = np.arange(16)\n",
        "poi = stats.poisson\n",
        "lambda_ = [1.5, 4.25]\n",
        "colours = [\"#348ABD\", \"#A60628\"]\n",
        "\n",
        "plt.bar(a, poi.pmf(a, lambda_[0]), color=colours[0],\n",
        "        label=\"$\\lambda = %.1f$\" % lambda_[0], alpha=0.60,\n",
        "        edgecolor=colours[0], lw=\"3\")\n",
        "\n",
        "plt.bar(a, poi.pmf(a, lambda_[1]), color=colours[1],\n",
        "        label=\"$\\lambda = %.1f$\" % lambda_[1], alpha=0.60,\n",
        "        edgecolor=colours[1], lw=\"3\")\n",
        "\n",
        "plt.xticks(a + 0.4, a)\n",
        "plt.legend()\n",
        "plt.ylabel(\"probability of $k$\")\n",
        "plt.xlabel(\"$k$\")\n",
        "plt.title(\"Probability mass function of a Poisson random variable; differing \\\n",
        "$\\lambda$ values\")"
      ],
      "execution_count": 0,
      "outputs": [
        {
          "output_type": "execute_result",
          "data": {},
          "metadata": {
            "tags": []
          },
          "execution_count": 8
        },
        {
          "output_type": "display_data",
          "data": {},
          "metadata": {
            "tags": []
          }
        }
      ]
    },
    {
      "cell_type": "markdown",
      "metadata": {
        "id": "os8tUglq7uQ4",
        "colab_type": "text"
      },
      "source": [
        "###Continuous Case\n",
        "Instead of a probability mass function, a continuous random variable has a *probability density function*. This might seem like unnecessary nomenclature, but the density function and the mass function are very different creatures. An example of continuous random variable is a random variable with *exponential density*. The density function for an exponential random variable looks like this:\n",
        "\n",
        "$$f_Z(z | \\lambda) = \\lambda e^{-\\lambda z }, \\;\\; z\\ge 0$$\n",
        "\n",
        "Like a Poisson random variable, an exponential random variable can take on only non-negative values. But unlike a Poisson variable, the exponential can take on *any* non-negative values, including non-integral values such as 4.25 or 5.612401. This property makes it a poor choice for count data, which must be an integer, but a great choice for time data, temperature data (measured in Kelvins, of course), or any other precise *and positive* variable. The graph below shows two probability density functions with different $\\lambda$ values. \n",
        "\n",
        "When a random variable $Z$ has an exponential distribution with parameter $\\lambda$, we say *$Z$ is exponential* and write\n",
        "\n",
        "$$Z \\sim \\text{Exp}(\\lambda)$$\n",
        "\n",
        "Given a specific $\\lambda$, the expected value of an exponential random variable is equal to the inverse of $\\lambda$, that is:\n",
        "\n",
        "$$E[\\; Z \\;|\\; \\lambda \\;] = \\frac{1}{\\lambda}$$"
      ]
    },
    {
      "cell_type": "code",
      "metadata": {
        "id": "sRyEcAPc7uQ5",
        "colab_type": "code",
        "colab": {},
        "outputId": "e427468a-7afc-4412-d2a7-7ec6bb8c7747"
      },
      "source": [
        "a = np.linspace(0, 4, 100)\n",
        "expo = stats.expon\n",
        "lambda_ = [0.5, 1]\n",
        "\n",
        "for l, c in zip(lambda_, colours):\n",
        "    plt.plot(a, expo.pdf(a, scale=1./l), lw=3,\n",
        "             color=c, label=\"$\\lambda = %.1f$\" % l)\n",
        "    plt.fill_between(a, expo.pdf(a, scale=1./l), color=c, alpha=.33)\n",
        "\n",
        "plt.legend()\n",
        "plt.ylabel(\"PDF at $z$\")\n",
        "plt.xlabel(\"$z$\")\n",
        "plt.ylim(0,1.2)\n",
        "plt.title(\"Probability density function of an Exponential random variable;\\\n",
        " differing $\\lambda$\");"
      ],
      "execution_count": 0,
      "outputs": [
        {
          "output_type": "display_data",
          "data": {},
          "metadata": {
            "tags": []
          }
        }
      ]
    },
    {
      "cell_type": "markdown",
      "metadata": {
        "id": "5zd0UgX47uQ8",
        "colab_type": "text"
      },
      "source": [
        "\n",
        "###But what is $\\lambda \\;$?\n",
        "\n",
        "\n",
        "**This question is what motivates statistics**. In the real world, $\\lambda$ is hidden from us. We see only $Z$, and must go backwards to try and determine $\\lambda$. The problem is difficult because there is no one-to-one mapping from $Z$ to $\\lambda$. Many different methods have been created to solve the problem of estimating $\\lambda$, but since $\\lambda$ is never actually observed, no one can say for certain which method is best! \n",
        "\n",
        "Bayesian inference is concerned with *beliefs* about what $\\lambda$ might be. Rather than try to guess $\\lambda$ exactly, we can only talk about what $\\lambda$ is likely to be by assigning a probability distribution to $\\lambda$.\n",
        "\n",
        "This might seem odd at first. After all, $\\lambda$ is fixed; it is not (necessarily) random! How can we assign probabilities to values of a non-random variable? Ah, we have fallen for our old, frequentist way of thinking. Recall that under Bayesian philosophy, we *can* assign probabilities if we interpret them as beliefs. And it is entirely acceptable to have *beliefs* about the parameter $\\lambda$. \n"
      ]
    },
    {
      "cell_type": "markdown",
      "metadata": {
        "id": "XjhIdv5C7uQ9",
        "colab_type": "text"
      },
      "source": [
        "\n",
        "##### Example: Inferring behaviour from text-message data\n",
        "\n",
        "Let's try to model a more interesting example, one that concerns the rate at which a user sends and receives text messages:\n",
        "\n",
        ">  You are given a series of daily text-message counts from a user of your system. The data, plotted over time, appears in the chart below. You are curious to know if the user's text-messaging habits have changed over time, either gradually or suddenly. How can you model this? (This is in fact my own text-message data. Judge my popularity as you wish.)\n"
      ]
    },
    {
      "cell_type": "code",
      "metadata": {
        "id": "fc3qm6on7uQ-",
        "colab_type": "code",
        "colab": {},
        "outputId": "e8bdab82-e447-4c87-caf0-1f7e94a06666"
      },
      "source": [
        "figsize(12.5, 3.5)\n",
        "count_data = np.loadtxt(\"data/txtdata.csv\")\n",
        "n_count_data = len(count_data)\n",
        "plt.bar(np.arange(n_count_data), count_data, color=\"#348ABD\")\n",
        "plt.xlabel(\"Time (days)\")\n",
        "plt.ylabel(\"count of text-msgs received\")\n",
        "plt.title(\"Did the user's texting habits change over time?\")\n",
        "plt.xlim(0, n_count_data);"
      ],
      "execution_count": 0,
      "outputs": [
        {
          "output_type": "display_data",
          "data": {},
          "metadata": {
            "tags": []
          }
        }
      ]
    },
    {
      "cell_type": "markdown",
      "metadata": {
        "id": "oVkMnQnY7uRC",
        "colab_type": "text"
      },
      "source": [
        "Before we start modeling, see what you can figure out just by looking at the chart above. Would you say there was a change in behaviour during this time period? \n",
        "\n",
        "How can we start to model this? Well, as we have conveniently already seen, a Poisson random variable is a very appropriate model for this type of *count* data. Denoting day $i$'s text-message count by $C_i$, \n",
        "\n",
        "$$ C_i \\sim \\text{Poisson}(\\lambda)  $$\n",
        "\n",
        "We are not sure what the value of the $\\lambda$ parameter really is, however. Looking at the chart above, it appears that the rate might become higher late in the observation period, which is equivalent to saying that $\\lambda$ increases at some point during the observations. (Recall that a higher value of $\\lambda$ assigns more probability to larger outcomes. That is, there is a higher probability of many text messages having been sent on a given day.)\n",
        "\n",
        "How can we represent this observation mathematically? Let's assume that on some day during the observation period (call it $\\tau$), the parameter $\\lambda$ suddenly jumps to a higher value. So we really have two $\\lambda$ parameters: one for the period before $\\tau$, and one for the rest of the observation period. In the literature, a sudden transition like this would be called a *switchpoint*:\n",
        "\n",
        "$$\n",
        "\\lambda = \n",
        "\\begin{cases}\n",
        "\\lambda_1  & \\text{if } t \\lt \\tau \\cr\n",
        "\\lambda_2 & \\text{if } t \\ge \\tau\n",
        "\\end{cases}\n",
        "$$\n",
        "\n",
        "\n",
        "If, in reality, no sudden change occurred and indeed $\\lambda_1 = \\lambda_2$, then the $\\lambda$s posterior distributions should look about equal.\n",
        "\n",
        "We are interested in inferring the unknown $\\lambda$s. To use Bayesian inference, we need to assign prior probabilities to the different possible values of $\\lambda$. What would be good prior probability distributions for $\\lambda_1$ and $\\lambda_2$? Recall that $\\lambda$ can be any positive number. As we saw earlier, the *exponential* distribution provides a continuous density function for positive numbers, so it might be a good choice for modeling $\\lambda_i$. But recall that the exponential distribution takes a parameter of its own, so we'll need to include that parameter in our model. Let's call that parameter $\\alpha$.\n",
        "\n",
        "\\begin{align}\n",
        "&\\lambda_1 \\sim \\text{Exp}( \\alpha ) \\\\\\\n",
        "&\\lambda_2 \\sim \\text{Exp}( \\alpha )\n",
        "\\end{align}\n",
        "\n",
        "$\\alpha$ is called a *hyper-parameter* or *parent variable*. In literal terms, it is a parameter that influences other parameters. Our initial guess at $\\alpha$ does not influence the model too strongly, so we have some flexibility in our choice.  A good rule of thumb is to set the exponential parameter equal to the inverse of the average of the count data. Since we're modeling $\\lambda$ using an exponential distribution, we can use the expected value identity shown earlier to get:\n",
        "\n",
        "$$\\frac{1}{N}\\sum_{i=0}^N \\;C_i \\approx E[\\; \\lambda \\; |\\; \\alpha ] = \\frac{1}{\\alpha}$$ \n",
        "\n",
        "An alternative, and something I encourage the reader to try, would be to have two priors: one for each $\\lambda_i$. Creating two exponential distributions with different $\\alpha$ values reflects our prior belief that the rate changed at some point during the observations.\n",
        "\n",
        "What about $\\tau$? Because of the noisiness of the data, it's difficult to pick out a priori when $\\tau$ might have occurred. Instead, we can assign a *uniform prior belief* to every possible day. This is equivalent to saying\n",
        "\n",
        "\\begin{align}\n",
        "& \\tau \\sim \\text{DiscreteUniform(1,70) }\\\\\\\\\n",
        "& \\Rightarrow P( \\tau = k ) = \\frac{1}{70}\n",
        "\\end{align}\n",
        "\n",
        "So after all this, what does our overall prior distribution for the unknown variables look like? Frankly, *it doesn't matter*. What we should understand is that it's an ugly, complicated mess involving symbols only a mathematician could love. And things will only get uglier the more complicated our models become. Regardless, all we really care about is the posterior distribution.\n",
        "\n",
        "We next turn to PyMC, a Python library for performing Bayesian analysis that is undaunted by the mathematical monster we have created. \n",
        "\n",
        "\n",
        "Introducing our first hammer: PyMC\n",
        "-----\n",
        "\n",
        "PyMC is a Python library for programming Bayesian analysis [3]. It is a fast, well-maintained library. The only unfortunate part is that its documentation is lacking in certain areas, especially those that bridge the gap between beginner and hacker. One of this book's main goals is to solve that problem, and also to demonstrate why PyMC is so cool.\n",
        "\n",
        "We will model the problem above using PyMC. This type of programming is called *probabilistic programming*, an unfortunate misnomer that invokes ideas of randomly-generated code and has likely confused and frightened users away from this field. The code is not random; it is probabilistic in the sense that we create probability models using programming variables as the model's components. Model components are first-class primitives within the PyMC framework. \n",
        "\n",
        "B. Cronin [5] has a very motivating description of probabilistic programming:\n",
        "\n",
        ">   Another way of thinking about this: unlike a traditional program, which only runs in the forward directions, a probabilistic program is run in both the forward and backward direction. It runs forward to compute the consequences of the assumptions it contains about the world (i.e., the model space it represents), but it also runs backward from the data to constrain the possible explanations. In practice, many probabilistic programming systems will cleverly interleave these forward and backward operations to efficiently home in on the best explanations.\n",
        "\n",
        "Because of the confusion engendered by the term *probabilistic programming*, I'll refrain from using it. Instead, I'll simply say *programming*, since that's what it really is. \n",
        "\n",
        "PyMC code is easy to read. The only novel thing should be the syntax. Simply remember that we are representing the model's components ($\\tau, \\lambda_1, \\lambda_2$ ) as variables.\n",
        "\n",
        "In the code below, we create the PyMC variables corresponding to $\\lambda_1$ and $\\lambda_2$. We assign them to PyMC's *stochastic variables*, so-called because they are treated by the back end as random number generators."
      ]
    },
    {
      "cell_type": "code",
      "metadata": {
        "id": "Vkd_vNMN7uRD",
        "colab_type": "code",
        "colab": {}
      },
      "source": [
        "import pymc as pm\n",
        "\n",
        "with pm.Model() as model:\n",
        "    alpha = 1.0/count_data.mean()  # Recall count_data is the\n",
        "                                   # variable that holds our txt counts\n",
        "    lambda_1 = pm.Exponential(\"lambda_1\", alpha)\n",
        "    lambda_2 = pm.Exponential(\"lambda_2\", alpha)\n",
        "    \n",
        "    tau = pm.DiscreteUniform(\"tau\", lower=0, upper=n_count_data)\n",
        "\n",
        "    #def lambda_(tau=tau, lambda_1=lambda_1, lambda_2=lambda_2):\n",
        "    #    out = np.zeros(n_count_data)\n",
        "    #    out[:tau] = lambda_1  # lambda before tau is lambda1\n",
        "    #    out[tau:] = lambda_2  # lambda after (and including) tau is lambda2\n",
        "    #    return out\n",
        "    idx = np.arange( n_count_data )\n",
        "    \n",
        "    # the following code is equivilant to \n",
        "    # def switch(tau, lambda_1, lambda_2):\n",
        "    #    out = np.zeros(n_count_data)\n",
        "    #    out[:tau] = lambda_1  # lambda before tau is lambda1\n",
        "    #    out[tau:] = lambda_2  # lambda after (and including) tau is lambda2\n",
        "    #    return out\n",
        "    # lambda_ = switch( tau, lambda_1, lambda_2 )\n",
        "    lambda_ = pm.switch( tau >= idx, lambda_1, lambda_2 )\n",
        "    \n",
        "    observation = pm.Poisson(\"obs\", lambda_, observed=count_data)\n"
      ],
      "execution_count": 0,
      "outputs": []
    },
    {
      "cell_type": "markdown",
      "metadata": {
        "id": "3HhUN9Cx7uRF",
        "colab_type": "text"
      },
      "source": [
        "This code creates a new function `lambda_`, but really we can think of it as a random variable: the random variable $\\lambda$ from above. Note that because `lambda_1`, `lambda_2` and `tau` are random, `lambda_` will be random. We are **not** fixing any variables yet."
      ]
    },
    {
      "cell_type": "markdown",
      "metadata": {
        "id": "_Lbg0yeW7uRG",
        "colab_type": "text"
      },
      "source": [
        "The variable `observation` combines our data, `count_data`, with our proposed data-generation scheme, given by the variable `lambda_`, through the `observed` keyword. \n",
        "\n",
        "The code below will be explained in Chapter 3, but I show it here so you can see where our results come from. One can think of it as a *learning* step. The machinery being employed is called *Markov Chain Monte Carlo* (MCMC), which I also delay explaining until Chapter 3. This technique returns thousands of random variables from the posterior distributions of $\\lambda_1, \\lambda_2$ and $\\tau$. We can plot a histogram of the random variables to see what the posterior distributions look like. Below, we collect the samples (called *traces* in the MCMC literature) into histograms."
      ]
    },
    {
      "cell_type": "code",
      "metadata": {
        "id": "ZqyWxDII7uRH",
        "colab_type": "code",
        "colab": {},
        "outputId": "8a9f30f8-a379-402d-9016-23a2048535be"
      },
      "source": [
        "### Mysterious code to be explained in Chapter 3.\n",
        "with model:\n",
        "    step = pm.Metropolis(model.free_RVs)\n",
        "    trace = pm.sample(10000, tune=5000,step=step)"
      ],
      "execution_count": 0,
      "outputs": [
        {
          "output_type": "stream",
          "text": [
            "\r [----             11%                  ] 1106 of 10000 complete in 0.5 sec"
          ],
          "name": "stdout"
        },
        {
          "output_type": "stream",
          "text": [
            "\r [---------        23%                  ] 2391 of 10000 complete in 1.0 sec"
          ],
          "name": "stdout"
        },
        {
          "output_type": "stream",
          "text": [
            "\r [--------------   37%                  ] 3708 of 10000 complete in 1.5 sec"
          ],
          "name": "stdout"
        },
        {
          "output_type": "stream",
          "text": [
            "\r [-----------------50%                  ] 5043 of 10000 complete in 2.0 sec"
          ],
          "name": "stdout"
        },
        {
          "output_type": "stream",
          "text": [
            "\r [-----------------63%----              ] 6352 of 10000 complete in 2.5 sec"
          ],
          "name": "stdout"
        },
        {
          "output_type": "stream",
          "text": [
            "\r [-----------------76%---------         ] 7685 of 10000 complete in 3.0 sec"
          ],
          "name": "stdout"
        },
        {
          "output_type": "stream",
          "text": [
            "\r [-----------------89%--------------    ] 8970 of 10000 complete in 3.5 sec"
          ],
          "name": "stdout"
        },
        {
          "output_type": "stream",
          "text": [
            "\r [-----------------100%-----------------] 10000 of 10000 complete in 3.9 sec"
          ],
          "name": "stdout"
        }
      ]
    },
    {
      "cell_type": "code",
      "metadata": {
        "id": "prxlu0m47uRK",
        "colab_type": "code",
        "colab": {}
      },
      "source": [
        "lambda_1_samples = trace['lambda_1']\n",
        "lambda_2_samples = trace['lambda_2']\n",
        "tau_samples = trace['tau']"
      ],
      "execution_count": 0,
      "outputs": []
    },
    {
      "cell_type": "code",
      "metadata": {
        "id": "amkDU5TC7uRN",
        "colab_type": "code",
        "colab": {},
        "outputId": "537d6a3f-4cc6-45e1-cade-ed1c46e01179"
      },
      "source": [
        "figsize(12.5, 10)\n",
        "#histogram of the samples:\n",
        "\n",
        "ax = plt.subplot(311)\n",
        "ax.set_autoscaley_on(False)\n",
        "\n",
        "plt.hist(lambda_1_samples, histtype='stepfilled', bins=30, alpha=0.85,\n",
        "         label=\"posterior of $\\lambda_1$\", color=\"#A60628\", normed=True)\n",
        "plt.legend(loc=\"upper left\")\n",
        "plt.title(r\"\"\"Posterior distributions of the variables\n",
        "    $\\lambda_1,\\;\\lambda_2,\\;\\tau$\"\"\")\n",
        "plt.xlim([15, 30])\n",
        "plt.xlabel(\"$\\lambda_1$ value\")\n",
        "\n",
        "ax = plt.subplot(312)\n",
        "ax.set_autoscaley_on(False)\n",
        "plt.hist(lambda_2_samples, histtype='stepfilled', bins=30, alpha=0.85,\n",
        "         label=\"posterior of $\\lambda_2$\", color=\"#7A68A6\", normed=True)\n",
        "plt.legend(loc=\"upper left\")\n",
        "plt.xlim([15, 30])\n",
        "plt.xlabel(\"$\\lambda_2$ value\")\n",
        "\n",
        "plt.subplot(313)\n",
        "w = 1.0 / tau_samples.shape[0] * np.ones_like(tau_samples)\n",
        "plt.hist(tau_samples, bins=n_count_data, alpha=1,\n",
        "         label=r\"posterior of $\\tau$\",\n",
        "         color=\"#467821\", weights=w, rwidth=2.)\n",
        "plt.xticks(np.arange(n_count_data))\n",
        "\n",
        "plt.legend(loc=\"upper left\")\n",
        "plt.ylim([0, .75])\n",
        "plt.xlim([35, len(count_data)-20])\n",
        "plt.xlabel(r\"$\\tau$ (in days)\")\n",
        "plt.ylabel(\"probability\");"
      ],
      "execution_count": 0,
      "outputs": [
        {
          "output_type": "display_data",
          "data": {},
          "metadata": {
            "tags": []
          }
        }
      ]
    },
    {
      "cell_type": "markdown",
      "metadata": {
        "id": "01j7oMjw7uRQ",
        "colab_type": "text"
      },
      "source": [
        "### Interpretation\n",
        "\n",
        "Recall that Bayesian methodology returns a *distribution*. Hence we now have distributions to describe the unknown $\\lambda$s and $\\tau$. What have we gained? Immediately, we can see the uncertainty in our estimates: the wider the distribution, the less certain our posterior belief should be. We can also see what the plausible values for the parameters are: $\\lambda_1$ is around 18 and $\\lambda_2$ is around 23. The posterior distributions of the two $\\lambda$s are clearly distinct, indicating that it is indeed likely that there was a change in the user's text-message behaviour.\n",
        "\n",
        "What other observations can you make? If you look at the original data again, do these results seem reasonable? \n",
        "\n",
        "Notice also that the posterior distributions for the $\\lambda$s do not look like exponential distributions, even though our priors for these variables were exponential. In fact, the posterior distributions are not really of any form that we recognize from the original model. But that's OK! This is one of the benefits of taking a computational point of view. If we had instead done this analysis using mathematical approaches, we would have been stuck with an analytically intractable (and messy) distribution. Our use of a computational approach makes us indifferent to mathematical tractability.\n",
        "\n",
        "Our analysis also returned a distribution for $\\tau$. Its posterior distribution looks a little different from the other two because it is a discrete random variable, so it doesn't assign probabilities to intervals. We can see that near day 45, there was a 50% chance that the user's behaviour changed. Had no change occurred, or had the change been gradual over time, the posterior distribution of $\\tau$ would have been more spread out, reflecting that many days were plausible candidates for $\\tau$. By contrast, in the actual results we see that only three or four days make any sense as potential transition points. "
      ]
    },
    {
      "cell_type": "markdown",
      "metadata": {
        "id": "sSuAkzA47uRR",
        "colab_type": "text"
      },
      "source": [
        "###Why would I want samples from the posterior, anyways?\n",
        "\n",
        "\n",
        "We will deal with this question for the remainder of the book, and it is an understatement to say that it will lead us to some amazing results. For now, let's end this chapter with one more example.\n",
        "\n",
        "We'll use the posterior samples to answer the following question: what is the expected number of texts at day $t, \\; 0 \\le t \\le 70$ ? Recall that the expected value of a Poisson variable is equal to its parameter $\\lambda$. Therefore, the question is equivalent to *what is the expected value of $\\lambda$ at time $t$*?\n",
        "\n",
        "In the code below, let $i$ index samples from the posterior distributions. Given a day $t$, we average over all possible $\\lambda_i$ for that day $t$, using $\\lambda_i = \\lambda_{1,i}$ if $t \\lt \\tau_i$ (that is, if the behaviour change has not yet occurred), else we use $\\lambda_i = \\lambda_{2,i}$. "
      ]
    },
    {
      "cell_type": "code",
      "metadata": {
        "id": "8UFSYTuE7uRS",
        "colab_type": "code",
        "colab": {},
        "outputId": "45dadd3d-a949-420b-fe56-be62df9b7839"
      },
      "source": [
        "figsize(12.5, 5)\n",
        "# tau_samples, lambda_1_samples, lambda_2_samples contain\n",
        "# N samples from the corresponding posterior distribution\n",
        "N = tau_samples.shape[0]\n",
        "expected_texts_per_day = np.zeros(n_count_data)\n",
        "for day in range(0, n_count_data):\n",
        "    # ix is a bool index of all tau samples corresponding to\n",
        "    # the switchpoint occurring prior to value of 'day'\n",
        "    ix = day < tau_samples\n",
        "    # Each posterior sample corresponds to a value for tau.\n",
        "    # for each day, that value of tau indicates whether we're \"before\"\n",
        "    # (in the lambda1 \"regime\") or\n",
        "    #  \"after\" (in the lambda2 \"regime\") the switchpoint.\n",
        "    # by taking the posterior sample of lambda1/2 accordingly, we can average\n",
        "    # over all samples to get an expected value for lambda on that day.\n",
        "    # As explained, the \"message count\" random variable is Poisson distributed,\n",
        "    # and therefore lambda (the poisson parameter) is the expected value of\n",
        "    # \"message count\".\n",
        "    expected_texts_per_day[day] = (lambda_1_samples[ix].sum()\n",
        "                                   + lambda_2_samples[~ix].sum()) / N\n",
        "\n",
        "\n",
        "plt.plot(range(n_count_data), expected_texts_per_day, lw=4, color=\"#E24A33\",\n",
        "         label=\"expected number of text-messages received\")\n",
        "plt.xlim(0, n_count_data)\n",
        "plt.xlabel(\"Day\")\n",
        "plt.ylabel(\"Expected # text-messages\")\n",
        "plt.title(\"Expected number of text-messages received\")\n",
        "plt.ylim(0, 60)\n",
        "plt.bar(np.arange(len(count_data)), count_data, color=\"#348ABD\", alpha=0.65,\n",
        "        label=\"observed texts per day\")\n",
        "\n",
        "plt.legend(loc=\"upper left\");"
      ],
      "execution_count": 0,
      "outputs": [
        {
          "output_type": "display_data",
          "data": {},
          "metadata": {
            "tags": []
          }
        }
      ]
    },
    {
      "cell_type": "markdown",
      "metadata": {
        "id": "8PWd4_0J7uRV",
        "colab_type": "text"
      },
      "source": [
        "Our analysis shows strong support for believing the user's behavior did change ($\\lambda_1$ would have been close in value to $\\lambda_2$ had this not been true), and that the change was sudden rather than gradual (as demonstrated by $\\tau$'s strongly peaked posterior distribution). We can speculate what might have caused this: a cheaper text-message rate, a recent weather-to-text subscription, or perhaps a new relationship. (In fact, the 45th day corresponds to Christmas, and I moved away to Toronto the next month, leaving a girlfriend behind.)\n"
      ]
    },
    {
      "cell_type": "markdown",
      "metadata": {
        "id": "6BXrgCoi7uRW",
        "colab_type": "text"
      },
      "source": [
        "##### Exercises\n",
        "\n",
        "1\\.  Using `lambda_1_samples` and `lambda_2_samples`, what is the mean of the posterior distributions of $\\lambda_1$ and $\\lambda_2$?"
      ]
    },
    {
      "cell_type": "code",
      "metadata": {
        "id": "vFzS5gML7uRX",
        "colab_type": "code",
        "colab": {}
      },
      "source": [
        "#type your code here."
      ],
      "execution_count": 0,
      "outputs": []
    },
    {
      "cell_type": "markdown",
      "metadata": {
        "id": "w-09PRsf7uRa",
        "colab_type": "text"
      },
      "source": [
        "2\\.  What is the expected percentage increase in text-message rates? `hint:` compute the mean of `lambda_1_samples/lambda_2_samples`. Note that this quantity is very different from `lambda_1_samples.mean()/lambda_2_samples.mean()`."
      ]
    },
    {
      "cell_type": "code",
      "metadata": {
        "id": "FZq7GofW7uRb",
        "colab_type": "code",
        "colab": {}
      },
      "source": [
        "#type your code here."
      ],
      "execution_count": 0,
      "outputs": []
    },
    {
      "cell_type": "markdown",
      "metadata": {
        "id": "6l_tXxWg7uRe",
        "colab_type": "text"
      },
      "source": [
        "3\\. What is the mean of $\\lambda_1$ **given** that we know $\\tau$ is less than 45.  That is, suppose we have been given new information that the change in behaviour occurred prior to day 45. What is the expected value of $\\lambda_1$ now? (You do not need to redo the PyMC part. Just consider all instances where `tau_samples < 45`.)"
      ]
    },
    {
      "cell_type": "code",
      "metadata": {
        "id": "B1UHFQ6D7uRf",
        "colab_type": "code",
        "colab": {}
      },
      "source": [
        "#type your code here."
      ],
      "execution_count": 0,
      "outputs": []
    },
    {
      "cell_type": "markdown",
      "metadata": {
        "id": "wtyaCtuB7uRi",
        "colab_type": "text"
      },
      "source": [
        "### References\n",
        "\n",
        "\n",
        "-  [1] Gelman, Andrew. N.p.. Web. 22 Jan 2013. [N is never large enough](http://andrewgelman.com/2005/07/n_is_never_large).\n",
        "-  [2] Norvig, Peter. 2009. [The Unreasonable Effectiveness of Data](http://static.googleusercontent.com/media/research.google.com/en//pubs/archive/35179.pdf).\n",
        "- [3] Patil, A., D. Huard and C.J. Fonnesbeck. 2010. \n",
        "PyMC: Bayesian Stochastic Modelling in Python. Journal of Statistical \n",
        "Software, 35(4), pp. 1-81. \n",
        "- [4] Jimmy Lin and Alek Kolcz. Large-Scale Machine Learning at Twitter. Proceedings of the 2012 ACM SIGMOD International Conference on Management of Data (SIGMOD 2012), pages 793-804, May 2012, Scottsdale, Arizona.\n",
        "- [5] Cronin, Beau. \"Why Probabilistic Programming Matters.\" 24 Mar 2013. Google, Online Posting to Google . Web. 24 Mar. 2013. <https://plus.google.com/u/0/107971134877020469960/posts/KpeRdJKR6Z1>."
      ]
    },
    {
      "cell_type": "code",
      "metadata": {
        "id": "jd6kttzK7uRj",
        "colab_type": "code",
        "colab": {},
        "outputId": "bcbd1cad-3517-46f2-ca4f-d283c1fed768"
      },
      "source": [
        "from IPython.core.display import HTML\n",
        "def css_styling():\n",
        "    styles = open(\"../styles/custom.css\", \"r\").read()\n",
        "    return HTML(styles)\n",
        "css_styling()"
      ],
      "execution_count": 0,
      "outputs": [
        {
          "output_type": "execute_result",
          "data": {},
          "metadata": {
            "tags": []
          },
          "execution_count": 1
        }
      ]
    },
    {
      "cell_type": "code",
      "metadata": {
        "id": "0MnX8Ng77uRl",
        "colab_type": "code",
        "colab": {}
      },
      "source": [
        ""
      ],
      "execution_count": 0,
      "outputs": []
    }
  ]
}